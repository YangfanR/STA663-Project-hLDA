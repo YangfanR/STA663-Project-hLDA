{
 "cells": [
  {
   "cell_type": "code",
   "execution_count": 1,
   "metadata": {},
   "outputs": [],
   "source": [
    "import twine\n",
    "import pip"
   ]
  },
  {
   "cell_type": "code",
   "execution_count": 2,
   "metadata": {},
   "outputs": [
    {
     "name": "stdout",
     "output_type": "stream",
     "text": [
      "running test\n",
      "running egg_info\n",
      "writing hierarchical_lda_ncrp.egg-info/PKG-INFO\n",
      "writing dependency_links to hierarchical_lda_ncrp.egg-info/dependency_links.txt\n",
      "writing top-level names to hierarchical_lda_ncrp.egg-info/top_level.txt\n",
      "reading manifest file 'hierarchical_lda_ncrp.egg-info/SOURCES.txt'\n",
      "writing manifest file 'hierarchical_lda_ncrp.egg-info/SOURCES.txt'\n",
      "running build_ext\n"
     ]
    },
    {
     "name": "stderr",
     "output_type": "stream",
     "text": [
      "\n",
      "----------------------------------------------------------------------\n",
      "Ran 0 tests in 0.000s\n",
      "\n",
      "OK\n"
     ]
    }
   ],
   "source": [
    "%%bash\n",
    "\n",
    "python setup.py test"
   ]
  },
  {
   "cell_type": "code",
   "execution_count": 3,
   "metadata": {},
   "outputs": [
    {
     "name": "stdout",
     "output_type": "stream",
     "text": [
      "running sdist\n",
      "running egg_info\n",
      "writing hierarchical_lda_ncrp.egg-info/PKG-INFO\n",
      "writing dependency_links to hierarchical_lda_ncrp.egg-info/dependency_links.txt\n",
      "writing top-level names to hierarchical_lda_ncrp.egg-info/top_level.txt\n",
      "reading manifest file 'hierarchical_lda_ncrp.egg-info/SOURCES.txt'\n",
      "writing manifest file 'hierarchical_lda_ncrp.egg-info/SOURCES.txt'\n",
      "running check\n",
      "creating hierarchical_lda_ncrp-0.2\n",
      "creating hierarchical_lda_ncrp-0.2/hierarchical_lda_ncrp\n",
      "creating hierarchical_lda_ncrp-0.2/hierarchical_lda_ncrp.egg-info\n",
      "copying files to hierarchical_lda_ncrp-0.2...\n",
      "copying setup.py -> hierarchical_lda_ncrp-0.2\n",
      "copying hierarchical_lda_ncrp/__init__.py -> hierarchical_lda_ncrp-0.2/hierarchical_lda_ncrp\n",
      "copying hierarchical_lda_ncrp.egg-info/PKG-INFO -> hierarchical_lda_ncrp-0.2/hierarchical_lda_ncrp.egg-info\n",
      "copying hierarchical_lda_ncrp.egg-info/SOURCES.txt -> hierarchical_lda_ncrp-0.2/hierarchical_lda_ncrp.egg-info\n",
      "copying hierarchical_lda_ncrp.egg-info/dependency_links.txt -> hierarchical_lda_ncrp-0.2/hierarchical_lda_ncrp.egg-info\n",
      "copying hierarchical_lda_ncrp.egg-info/not-zip-safe -> hierarchical_lda_ncrp-0.2/hierarchical_lda_ncrp.egg-info\n",
      "copying hierarchical_lda_ncrp.egg-info/top_level.txt -> hierarchical_lda_ncrp-0.2/hierarchical_lda_ncrp.egg-info\n",
      "Writing hierarchical_lda_ncrp-0.2/setup.cfg\n",
      "Creating tar archive\n",
      "removing 'hierarchical_lda_ncrp-0.2' (and everything under it)\n"
     ]
    },
    {
     "name": "stderr",
     "output_type": "stream",
     "text": [
      "warning: sdist: standard file not found: should have one of README, README.rst, README.txt, README.md\n",
      "\n"
     ]
    }
   ],
   "source": [
    "%%bash\n",
    "\n",
    "python setup.py sdist"
   ]
  },
  {
   "cell_type": "code",
   "execution_count": 4,
   "metadata": {},
   "outputs": [
    {
     "name": "stdout",
     "output_type": "stream",
     "text": [
      "Uploading distributions to https://test.pypi.org/legacy/\n",
      "Uploading hierarchical_lda_ncrp-0.2.tar.gz\n",
      "\r",
      "  0%|          | 0.00/5.74k [00:00<?, ?B/s]\r",
      "100%|██████████| 5.74k/5.74k [00:00<00:00, 33.3kB/s]\n"
     ]
    }
   ],
   "source": [
    "%%bash\n",
    "\n",
    "export TWINE_USERNAME='Ryfan' \n",
    "export TWINE_PASSWORD='***'\n",
    "python -m twine upload --repository-url  https://test.pypi.org/legacy/ dist/*"
   ]
  },
  {
   "cell_type": "code",
   "execution_count": 5,
   "metadata": {},
   "outputs": [
    {
     "name": "stdout",
     "output_type": "stream",
     "text": [
      "Looking in indexes: https://test.pypi.org/simple/\n",
      "Requirement already satisfied: hierarchical_lda_ncrp in /opt/conda/lib/python3.6/site-packages (0.1)\n"
     ]
    }
   ],
   "source": [
    "%%bash\n",
    "\n",
    "pip install --index-url https://test.pypi.org/simple/ hierarchical_lda_ncrp"
   ]
  },
  {
   "cell_type": "code",
   "execution_count": 6,
   "metadata": {},
   "outputs": [],
   "source": [
    "import hierarchical_lda_ncrp"
   ]
  }
 ],
 "metadata": {
  "kernelspec": {
   "display_name": "Python 3",
   "language": "python",
   "name": "python3"
  },
  "language_info": {
   "codemirror_mode": {
    "name": "ipython",
    "version": 3
   },
   "file_extension": ".py",
   "mimetype": "text/x-python",
   "name": "python",
   "nbconvert_exporter": "python",
   "pygments_lexer": "ipython3",
   "version": "3.6.5"
  }
 },
 "nbformat": 4,
 "nbformat_minor": 2
}
